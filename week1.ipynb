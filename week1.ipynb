{
 "cells": [
  {
   "cell_type": "markdown",
   "id": "e184a73e",
   "metadata": {},
   "source": [
    "## Python Interview"
   ]
  },
  {
   "cell_type": "code",
   "execution_count": 3,
   "id": "5c46607c",
   "metadata": {},
   "outputs": [],
   "source": [
    "# Variables"
   ]
  },
  {
   "cell_type": "code",
   "execution_count": 4,
   "id": "17be0313",
   "metadata": {},
   "outputs": [
    {
     "name": "stdout",
     "output_type": "stream",
     "text": [
      "10\n"
     ]
    }
   ],
   "source": [
    "intValue = 10\n",
    "print(intValue)   #result = 10"
   ]
  },
  {
   "cell_type": "code",
   "execution_count": 6,
   "id": "0d8bfd24",
   "metadata": {},
   "outputs": [
    {
     "data": {
      "text/plain": [
       "int"
      ]
     },
     "execution_count": 6,
     "metadata": {},
     "output_type": "execute_result"
    }
   ],
   "source": [
    "type(intValue)   #result = int"
   ]
  },
  {
   "cell_type": "code",
   "execution_count": 7,
   "id": "707665cc",
   "metadata": {},
   "outputs": [
    {
     "name": "stdout",
     "output_type": "stream",
     "text": [
      "Yaşınızı Giriniz: 20\n"
     ]
    }
   ],
   "source": [
    "ageValue = input(\"Yaşınızı Giriniz: \")  # a box will open to write 'ageValue'"
   ]
  },
  {
   "cell_type": "code",
   "execution_count": 11,
   "id": "f673c9f1",
   "metadata": {},
   "outputs": [
    {
     "data": {
      "text/plain": [
       "str"
      ]
     },
     "execution_count": 11,
     "metadata": {},
     "output_type": "execute_result"
    }
   ],
   "source": [
    "x = \"hello world\"\n",
    "type(x)         #result = str"
   ]
  },
  {
   "cell_type": "code",
   "execution_count": 12,
   "id": "856794ce",
   "metadata": {},
   "outputs": [],
   "source": [
    "# list"
   ]
  },
  {
   "cell_type": "code",
   "execution_count": 13,
   "id": "269a9d43",
   "metadata": {},
   "outputs": [],
   "source": [
    "myList = [10,20,30,40]"
   ]
  },
  {
   "cell_type": "code",
   "execution_count": 15,
   "id": "147a0b0b",
   "metadata": {},
   "outputs": [
    {
     "data": {
      "text/plain": [
       "list"
      ]
     },
     "execution_count": 15,
     "metadata": {},
     "output_type": "execute_result"
    }
   ],
   "source": [
    "type(myList)      #result = list"
   ]
  },
  {
   "cell_type": "code",
   "execution_count": 16,
   "id": "e493f8b3",
   "metadata": {},
   "outputs": [
    {
     "data": {
      "text/plain": [
       "10"
      ]
     },
     "execution_count": 16,
     "metadata": {},
     "output_type": "execute_result"
    }
   ],
   "source": [
    "myList[0]   #result = 10"
   ]
  },
  {
   "cell_type": "code",
   "execution_count": 18,
   "id": "3a68cd0c",
   "metadata": {},
   "outputs": [],
   "source": [
    "myList.append(50)     #result = myList = [10, 20, 30, 40, 50, 50]"
   ]
  },
  {
   "cell_type": "code",
   "execution_count": 20,
   "id": "875f5cb9",
   "metadata": {},
   "outputs": [],
   "source": [
    "myList.remove(40)      #result = myList = [10, 20, 30, 50, 50]"
   ]
  },
  {
   "cell_type": "code",
   "execution_count": 21,
   "id": "f702d5b5",
   "metadata": {},
   "outputs": [
    {
     "data": {
      "text/plain": [
       "50"
      ]
     },
     "execution_count": 21,
     "metadata": {},
     "output_type": "execute_result"
    }
   ],
   "source": [
    "myList[-1]             #result = 50"
   ]
  },
  {
   "cell_type": "code",
   "execution_count": 23,
   "id": "c96e424a",
   "metadata": {},
   "outputs": [
    {
     "data": {
      "text/plain": [
       "[30, 50, 50]"
      ]
     },
     "execution_count": 23,
     "metadata": {},
     "output_type": "execute_result"
    }
   ],
   "source": [
    "myList[2:]             #result = [30, 50, 50]"
   ]
  },
  {
   "cell_type": "code",
   "execution_count": 26,
   "id": "14fc362c",
   "metadata": {},
   "outputs": [
    {
     "data": {
      "text/plain": [
       "[10, 20, 30]"
      ]
     },
     "execution_count": 26,
     "metadata": {},
     "output_type": "execute_result"
    }
   ],
   "source": [
    "myList[:3]             #result = [10, 20, 30]"
   ]
  },
  {
   "cell_type": "code",
   "execution_count": 30,
   "id": "dd0f573b",
   "metadata": {},
   "outputs": [
    {
     "data": {
      "text/plain": [
       "[50, 50, 30, 20, 10]"
      ]
     },
     "execution_count": 30,
     "metadata": {},
     "output_type": "execute_result"
    }
   ],
   "source": [
    "myList"
   ]
  },
  {
   "cell_type": "code",
   "execution_count": 34,
   "id": "b8ee4dcf",
   "metadata": {},
   "outputs": [
    {
     "data": {
      "text/plain": [
       "[10, 20, 30, 50, 50]"
      ]
     },
     "execution_count": 34,
     "metadata": {},
     "output_type": "execute_result"
    }
   ],
   "source": [
    "myList.reverse()     #result = [10, 20, 30, 50, 50]\n",
    "myList"
   ]
  },
  {
   "cell_type": "code",
   "execution_count": 35,
   "id": "db79a091",
   "metadata": {},
   "outputs": [],
   "source": [
    "#dictionaries"
   ]
  },
  {
   "cell_type": "code",
   "execution_count": 36,
   "id": "9d25d2b7",
   "metadata": {},
   "outputs": [],
   "source": [
    "values = {\"elma\" : 100 , \"karpuz\" : 200}"
   ]
  },
  {
   "cell_type": "code",
   "execution_count": 38,
   "id": "1db36c5b",
   "metadata": {},
   "outputs": [
    {
     "data": {
      "text/plain": [
       "dict_keys(['elma', 'karpuz'])"
      ]
     },
     "execution_count": 38,
     "metadata": {},
     "output_type": "execute_result"
    }
   ],
   "source": [
    "values.keys()        #result = dict_keys(['elma', 'karpuz'])"
   ]
  },
  {
   "cell_type": "code",
   "execution_count": 40,
   "id": "ce97e83d",
   "metadata": {},
   "outputs": [
    {
     "data": {
      "text/plain": [
       "dict_values([100, 200])"
      ]
     },
     "execution_count": 40,
     "metadata": {},
     "output_type": "execute_result"
    }
   ],
   "source": [
    "values.values()      #result = dict_values([100, 200])"
   ]
  },
  {
   "cell_type": "code",
   "execution_count": 42,
   "id": "74ae4ebf",
   "metadata": {},
   "outputs": [
    {
     "data": {
      "text/plain": [
       "100"
      ]
     },
     "execution_count": 42,
     "metadata": {},
     "output_type": "execute_result"
    }
   ],
   "source": [
    "values['elma']       #result = 100"
   ]
  },
  {
   "cell_type": "code",
   "execution_count": 43,
   "id": "6cca2043",
   "metadata": {},
   "outputs": [],
   "source": [
    "# if conditions"
   ]
  },
  {
   "cell_type": "code",
   "execution_count": 45,
   "id": "ecb4765d",
   "metadata": {},
   "outputs": [
    {
     "name": "stdout",
     "output_type": "stream",
     "text": [
      "Süper kahraman seçiniz: Batman\n"
     ]
    }
   ],
   "source": [
    "kahraman = input(\"Süper kahraman seçiniz: \")             # \"Batman\""
   ]
  },
  {
   "cell_type": "code",
   "execution_count": 47,
   "id": "63673959",
   "metadata": {},
   "outputs": [
    {
     "name": "stdout",
     "output_type": "stream",
     "text": [
      "Batman'i seçtiniz tebrikler\n"
     ]
    }
   ],
   "source": [
    "if kahraman == \"Batman\":\n",
    "    print(\"Batman'i seçtiniz tebrikler\")\n",
    "elif kahraman == \"Superman\":\n",
    "    print(\"Keşke Batman'i seçseydin\")\n",
    "elif kahraman == \"Ironman\":\n",
    "    print(\"Ironman de kimmiş\")\n",
    "else:\n",
    "    print(\"Siz insanları anlamak gerçekten zor\")       #Result = Batman'i seçtiniz tebrikler"
   ]
  },
  {
   "cell_type": "code",
   "execution_count": 49,
   "id": "58da5a39",
   "metadata": {},
   "outputs": [
    {
     "name": "stdout",
     "output_type": "stream",
     "text": [
      "var\n"
     ]
    }
   ],
   "source": [
    "string = \"Fatma Birel\"\n",
    "if \"Birel\" in string:\n",
    "    print(\"var\")\n",
    "else:\n",
    "    print(\"yok\")                                      #Result = var"
   ]
  },
  {
   "cell_type": "code",
   "execution_count": 50,
   "id": "86e828f0",
   "metadata": {},
   "outputs": [],
   "source": [
    "# While Loop"
   ]
  },
  {
   "cell_type": "code",
   "execution_count": 53,
   "id": "59d62984",
   "metadata": {},
   "outputs": [
    {
     "name": "stdout",
     "output_type": "stream",
     "text": [
      "love \n",
      "love \n",
      "love \n"
     ]
    }
   ],
   "source": [
    "a = 1\n",
    "\n",
    "while a < 4:\n",
    "    a += 1\n",
    "    print(\"love \")                                 #Result = love love love "
   ]
  },
  {
   "cell_type": "code",
   "execution_count": 54,
   "id": "653716c6",
   "metadata": {},
   "outputs": [],
   "source": [
    "# For Loop"
   ]
  },
  {
   "cell_type": "code",
   "execution_count": 57,
   "id": "2ef8a9b4",
   "metadata": {},
   "outputs": [
    {
     "name": "stdout",
     "output_type": "stream",
     "text": [
      "f\n",
      "a\n",
      "t\n",
      "m\n",
      "a\n"
     ]
    }
   ],
   "source": [
    "for a in \"fatma\":\n",
    "    print(a)"
   ]
  },
  {
   "cell_type": "code",
   "execution_count": 58,
   "id": "733076a2",
   "metadata": {},
   "outputs": [
    {
     "name": "stdout",
     "output_type": "stream",
     "text": [
      "♥\n",
      "♥♥\n",
      "♥♥♥\n",
      "♥♥♥♥\n",
      "♥♥♥♥♥\n"
     ]
    }
   ],
   "source": [
    "for i in range(1,6):\n",
    "    print(\"♥\"*i)"
   ]
  },
  {
   "cell_type": "code",
   "execution_count": 59,
   "id": "c902fe4d",
   "metadata": {},
   "outputs": [],
   "source": [
    "# Defining Functions"
   ]
  },
  {
   "cell_type": "code",
   "execution_count": 61,
   "id": "c6b63f8c",
   "metadata": {},
   "outputs": [
    {
     "name": "stdout",
     "output_type": "stream",
     "text": [
      "16\n"
     ]
    }
   ],
   "source": [
    "def square(number): \n",
    "    return number ** 2\n",
    "\n",
    "print(square(4))             #Result = 16 "
   ]
  },
  {
   "cell_type": "code",
   "execution_count": 62,
   "id": "91c4db52",
   "metadata": {},
   "outputs": [],
   "source": [
    "#Lambda"
   ]
  },
  {
   "cell_type": "code",
   "execution_count": 65,
   "id": "0ddfa5cd",
   "metadata": {},
   "outputs": [
    {
     "name": "stdout",
     "output_type": "stream",
     "text": [
      "16\n"
     ]
    }
   ],
   "source": [
    "square =  lambda num: num ** 2\n",
    "print(square(4))             #Result = 16"
   ]
  },
  {
   "cell_type": "code",
   "execution_count": null,
   "id": "998510e0",
   "metadata": {},
   "outputs": [],
   "source": []
  }
 ],
 "metadata": {
  "kernelspec": {
   "display_name": "Python 3 (ipykernel)",
   "language": "python",
   "name": "python3"
  },
  "language_info": {
   "codemirror_mode": {
    "name": "ipython",
    "version": 3
   },
   "file_extension": ".py",
   "mimetype": "text/x-python",
   "name": "python",
   "nbconvert_exporter": "python",
   "pygments_lexer": "ipython3",
   "version": "3.9.13"
  }
 },
 "nbformat": 4,
 "nbformat_minor": 5
}
