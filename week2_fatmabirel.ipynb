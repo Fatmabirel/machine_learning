{
 "cells": [
  {
   "cell_type": "code",
   "execution_count": 2,
   "id": "c04a317d",
   "metadata": {},
   "outputs": [],
   "source": [
    "import numpy as np"
   ]
  },
  {
   "cell_type": "code",
   "execution_count": 5,
   "id": "bd275a55",
   "metadata": {},
   "outputs": [
    {
     "name": "stdout",
     "output_type": "stream",
     "text": [
      "[25 64 21]\n"
     ]
    }
   ],
   "source": [
    "array = np.array([25,64,21])\n",
    "print(array)                   #Result = [25 64 21]"
   ]
  },
  {
   "cell_type": "code",
   "execution_count": 7,
   "id": "133519de",
   "metadata": {},
   "outputs": [
    {
     "name": "stdout",
     "output_type": "stream",
     "text": [
      "(3,)\n"
     ]
    }
   ],
   "source": [
    "array2 = np.array([1,2,3])\n",
    "print(array2.shape)             #Result = (3,)"
   ]
  },
  {
   "cell_type": "code",
   "execution_count": 16,
   "id": "fae639d9",
   "metadata": {},
   "outputs": [
    {
     "name": "stdout",
     "output_type": "stream",
     "text": [
      "[[1]\n",
      " [2]\n",
      " [3]]\n"
     ]
    }
   ],
   "source": [
    "x =array2.reshape(3,1)\n",
    "print(x)                       #Result = [[1][2][3]]"
   ]
  },
  {
   "cell_type": "code",
   "execution_count": 18,
   "id": "0526733c",
   "metadata": {},
   "outputs": [
    {
     "name": "stdout",
     "output_type": "stream",
     "text": [
      "Shape:  (3, 1)\n"
     ]
    }
   ],
   "source": [
    "print(\"Shape: \", x.shape)      #Result = Shape: (3,1)"
   ]
  },
  {
   "cell_type": "code",
   "execution_count": 23,
   "id": "b6547c04",
   "metadata": {},
   "outputs": [
    {
     "name": "stdout",
     "output_type": "stream",
     "text": [
      "Dimension:  2\n"
     ]
    }
   ],
   "source": [
    "print(\"Dimension: \", x.ndim)   #Result = Dimension: 2"
   ]
  },
  {
   "cell_type": "code",
   "execution_count": 24,
   "id": "0f5a71d3",
   "metadata": {},
   "outputs": [
    {
     "name": "stdout",
     "output_type": "stream",
     "text": [
      "Data Type:  int32\n"
     ]
    }
   ],
   "source": [
    "print(\"Data Type: \", x.dtype.name)   #Result = Data Type: int32"
   ]
  },
  {
   "cell_type": "code",
   "execution_count": 26,
   "id": "1e8f5171",
   "metadata": {},
   "outputs": [
    {
     "name": "stdout",
     "output_type": "stream",
     "text": [
      "Size:  3\n"
     ]
    }
   ],
   "source": [
    "print(\"Size: \", x.size)   #Result = Size:  3"
   ]
  },
  {
   "cell_type": "code",
   "execution_count": 31,
   "id": "1774cb1a",
   "metadata": {},
   "outputs": [
    {
     "name": "stdout",
     "output_type": "stream",
     "text": [
      "Type:  <class 'numpy.ndarray'>\n"
     ]
    }
   ],
   "source": [
    "print(\"Type: \", type(x))   #Result = Type:  <class 'numpy.ndarray'>"
   ]
  },
  {
   "cell_type": "code",
   "execution_count": 34,
   "id": "11843246",
   "metadata": {},
   "outputs": [
    {
     "name": "stdout",
     "output_type": "stream",
     "text": [
      "[[1 2 3]\n",
      " [4 5 6]\n",
      " [7 8 9]]\n"
     ]
    }
   ],
   "source": [
    "array3 = np.array([[1,2,3],[4,5,6],[7,8,9]])\n",
    "print(array3)               #Result = [[1,2,3],[4,5,6],[7,8,9]]]"
   ]
  },
  {
   "cell_type": "code",
   "execution_count": 37,
   "id": "323e87a5",
   "metadata": {},
   "outputs": [
    {
     "data": {
      "text/plain": [
       "(3, 3)"
      ]
     },
     "execution_count": 37,
     "metadata": {},
     "output_type": "execute_result"
    }
   ],
   "source": [
    "array3.shape                #Result = (3,3)"
   ]
  },
  {
   "cell_type": "code",
   "execution_count": 40,
   "id": "53467aba",
   "metadata": {},
   "outputs": [
    {
     "name": "stdout",
     "output_type": "stream",
     "text": [
      "[[0. 0.]\n",
      " [0. 0.]]\n"
     ]
    }
   ],
   "source": [
    "zeros = np.zeros((2,2))\n",
    "print(zeros)                  #Result = [[0. 0.],[0. 0.]]"
   ]
  },
  {
   "cell_type": "code",
   "execution_count": 42,
   "id": "9816ba1e",
   "metadata": {},
   "outputs": [
    {
     "name": "stdout",
     "output_type": "stream",
     "text": [
      "[[1. 1.]\n",
      " [1. 1.]]\n"
     ]
    }
   ],
   "source": [
    "ones = np.ones((2,2))\n",
    "print(ones)                  #Result = [[1. 1.],[1. 1.]]"
   ]
  },
  {
   "cell_type": "code",
   "execution_count": 47,
   "id": "326263c6",
   "metadata": {},
   "outputs": [
    {
     "data": {
      "text/plain": [
       "array([20, 28, 36, 44, 52])"
      ]
     },
     "execution_count": 47,
     "metadata": {},
     "output_type": "execute_result"
    }
   ],
   "source": [
    "np.arange(20,60,8)            #Result = array([20, 28, 36, 44, 52])"
   ]
  },
  {
   "cell_type": "code",
   "execution_count": 54,
   "id": "4ee4e147",
   "metadata": {},
   "outputs": [
    {
     "name": "stdout",
     "output_type": "stream",
     "text": [
      "[0.  0.5 1.  1.5 2. ]\n"
     ]
    }
   ],
   "source": [
    "y = np.linspace(0,2,5)       #Result = [0.  0.5 1.  1.5 2. ]\n",
    "print(y)"
   ]
  },
  {
   "cell_type": "code",
   "execution_count": 57,
   "id": "cca95345",
   "metadata": {},
   "outputs": [
    {
     "name": "stdout",
     "output_type": "stream",
     "text": [
      "[5 7 9]\n",
      "[-3 -3 -3]\n",
      "[ 4 10 18]\n"
     ]
    }
   ],
   "source": [
    "a = np.array([1,2,3])\n",
    "b = np.array([4,5,6])\n",
    "print(a+b)                   #Result = [5 7 9]\n",
    "print(a-b)                   #Result = [-3 -3 -3]\n",
    "print(a*b)                   #Result = [ 4 10 18]"
   ]
  },
  {
   "cell_type": "code",
   "execution_count": 58,
   "id": "fd215a23",
   "metadata": {},
   "outputs": [],
   "source": [
    "a = np.array([1,2,3])\n",
    "b = a\n",
    "c = a"
   ]
  },
  {
   "cell_type": "code",
   "execution_count": 60,
   "id": "8d918e9d",
   "metadata": {},
   "outputs": [
    {
     "name": "stdout",
     "output_type": "stream",
     "text": [
      "[2 2 3] [2 2 3] [2 2 3]\n"
     ]
    }
   ],
   "source": [
    "b[0] = 2\n",
    "print(a,b,c)              #Result = [2 2 3] [2 2 3] [2 2 3]"
   ]
  },
  {
   "cell_type": "code",
   "execution_count": 62,
   "id": "8fc964d5",
   "metadata": {},
   "outputs": [
    {
     "name": "stdout",
     "output_type": "stream",
     "text": [
      "[2 2 3]\n"
     ]
    }
   ],
   "source": [
    "d = a.copy()\n",
    "print(d)                  #Result = [2 2 3]"
   ]
  },
  {
   "cell_type": "code",
   "execution_count": 64,
   "id": "feb86b11",
   "metadata": {},
   "outputs": [
    {
     "data": {
      "text/plain": [
       "array([2, 2])"
      ]
     },
     "execution_count": 64,
     "metadata": {},
     "output_type": "execute_result"
    }
   ],
   "source": [
    "a[0:2]                    #Result = array([2, 2])"
   ]
  },
  {
   "cell_type": "code",
   "execution_count": 88,
   "id": "e394f497",
   "metadata": {},
   "outputs": [
    {
     "data": {
      "text/plain": [
       "array([[1, 2, 3, 4],\n",
       "       [5, 6, 7, 8]])"
      ]
     },
     "execution_count": 88,
     "metadata": {},
     "output_type": "execute_result"
    }
   ],
   "source": [
    "b = np.array([[1,2,3,4],[5,6,7,8]])\n",
    "b"
   ]
  },
  {
   "cell_type": "code",
   "execution_count": 73,
   "id": "6fe98eb1",
   "metadata": {},
   "outputs": [
    {
     "name": "stdout",
     "output_type": "stream",
     "text": [
      "[2 6]\n"
     ]
    }
   ],
   "source": [
    "print(b[:,1])               #Result = [2 6]"
   ]
  },
  {
   "cell_type": "code",
   "execution_count": 76,
   "id": "69ad3909",
   "metadata": {},
   "outputs": [
    {
     "name": "stdout",
     "output_type": "stream",
     "text": [
      "[4 8]\n"
     ]
    }
   ],
   "source": [
    "print(b[:,-1])               #Result = [4 8]"
   ]
  },
  {
   "cell_type": "code",
   "execution_count": 86,
   "id": "171b8d6f",
   "metadata": {},
   "outputs": [
    {
     "data": {
      "text/plain": [
       "array([1, 2, 3, 4, 5, 6, 7, 8])"
      ]
     },
     "execution_count": 86,
     "metadata": {},
     "output_type": "execute_result"
    }
   ],
   "source": [
    "b = b.ravel()\n",
    "b                            #Result = array([1, 2, 3, 4, 5, 6, 7, 8])"
   ]
  },
  {
   "cell_type": "code",
   "execution_count": 90,
   "id": "836271fe",
   "metadata": {},
   "outputs": [
    {
     "data": {
      "text/plain": [
       "array([[1, 5],\n",
       "       [2, 6],\n",
       "       [3, 7],\n",
       "       [4, 8]])"
      ]
     },
     "execution_count": 90,
     "metadata": {},
     "output_type": "execute_result"
    }
   ],
   "source": [
    "b.T                          #Result = array([[1, 5],[2, 6],[3, 7],[4, 8]])"
   ]
  },
  {
   "cell_type": "code",
   "execution_count": null,
   "id": "f5dae6e5",
   "metadata": {},
   "outputs": [],
   "source": []
  }
 ],
 "metadata": {
  "kernelspec": {
   "display_name": "Python 3 (ipykernel)",
   "language": "python",
   "name": "python3"
  },
  "language_info": {
   "codemirror_mode": {
    "name": "ipython",
    "version": 3
   },
   "file_extension": ".py",
   "mimetype": "text/x-python",
   "name": "python",
   "nbconvert_exporter": "python",
   "pygments_lexer": "ipython3",
   "version": "3.9.13"
  }
 },
 "nbformat": 4,
 "nbformat_minor": 5
}
